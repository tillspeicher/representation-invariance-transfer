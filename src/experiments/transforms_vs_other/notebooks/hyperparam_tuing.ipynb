{
 "cells": [
  {
   "cell_type": "markdown",
   "id": "967fe270-f86a-4368-ac7b-d598b0ccf292",
   "metadata": {},
   "source": [
    "# Transforms vs Other Factors: Hyperparameter Tuning"
   ]
  },
  {
   "cell_type": "code",
   "execution_count": null,
   "id": "e355b99d",
   "metadata": {},
   "outputs": [],
   "source": [
    "from lib_project.notebook import setup_notebook\n",
    "setup_notebook(\"../../../\")\n",
    "\n",
    "%load_ext autoreload\n",
    "%autoreload 2"
   ]
  },
  {
   "cell_type": "code",
   "execution_count": null,
   "id": "acbd71c6",
   "metadata": {},
   "outputs": [],
   "source": [
    "from pathlib import Path\n",
    "\n",
    "from IPython.display import display, Markdown as md\n",
    "\n",
    "from experiments.transforms_vs_other import results as res_util"
   ]
  },
  {
   "cell_type": "markdown",
   "id": "3cf03f6b-63fb-4699-b1cc-d0d87471d8c3",
   "metadata": {},
   "source": [
    "## Transforms-2D"
   ]
  },
  {
   "cell_type": "markdown",
   "id": "e2cc887f-a065-4e2a-bcb9-644779d58e56",
   "metadata": {},
   "source": [
    "### Full FT"
   ]
  },
  {
   "cell_type": "code",
   "execution_count": null,
   "id": "8f3f583c-fc35-4629-badd-398731b1421e",
   "metadata": {},
   "outputs": [],
   "source": [
    "ci10_figures = res_util.show_results(\n",
    "    dataset_type=\"t2d\",\n",
    "    variation_categories=[\"resnet-18\", \"resnet-50\", \"densenet-121\", \"vgg-11\", \"vit\"],\n",
    "    ft_type=\"full-300\",\n",
    "    seeds=list(range(1)),\n",
    "    object_cardinality=\"single_object\",\n",
    "    show_legend_for={},\n",
    "    show_hyperparameters=True,\n",
    ")"
   ]
  },
  {
   "cell_type": "markdown",
   "id": "3b48a672-d156-437a-93db-44785254f530",
   "metadata": {},
   "source": [
    "## CIFAR 10"
   ]
  },
  {
   "cell_type": "markdown",
   "id": "98a9db2e-b1c7-4fb3-aaa1-b80cbdb89e14",
   "metadata": {},
   "source": [
    "### Full FT"
   ]
  },
  {
   "cell_type": "code",
   "execution_count": null,
   "id": "a4d3d746-3a52-42aa-bbb3-2654115412cb",
   "metadata": {},
   "outputs": [],
   "source": [
    "ci10_figures = res_util.show_results(\n",
    "    dataset_type=\"cifar10\",\n",
    "    variation_categories=[\"resnet-18\", \"resnet-50\", \"densenet-121\", \"vgg-11\", \"vit\"],\n",
    "    ft_type=\"full-0.1\",\n",
    "    seeds=list(range(1)),\n",
    "    object_cardinality=\"default\",\n",
    "    show_legend_for={},\n",
    "    show_hyperparameters=True,\n",
    ")"
   ]
  },
  {
   "cell_type": "markdown",
   "id": "8e5cfd3a-0c2a-41de-8889-896c11a27db8",
   "metadata": {},
   "source": [
    "## CIFAR 100"
   ]
  },
  {
   "cell_type": "markdown",
   "id": "0cd64c97-fb39-47fe-93a6-fb6a4e46bf12",
   "metadata": {},
   "source": [
    "### Full FT"
   ]
  },
  {
   "cell_type": "code",
   "execution_count": null,
   "id": "1a3d48d1-7618-427a-a6ce-651e71e9c1a1",
   "metadata": {},
   "outputs": [],
   "source": [
    "ci10_figures = res_util.show_results(\n",
    "    dataset_type=\"cifar100\",\n",
    "    variation_categories=[\"resnet-18\", \"resnet-50\", \"densenet-121\", \"vgg-11\", \"vit\"],\n",
    "    ft_type=\"full-0.1\",\n",
    "    seeds=list(range(1)),\n",
    "    object_cardinality=\"default\",\n",
    "    show_legend_for={},\n",
    "    show_hyperparameters=True,\n",
    ")"
   ]
  },
  {
   "cell_type": "code",
   "execution_count": null,
   "id": "01d1e16e-af5a-4abe-822d-a2626527577b",
   "metadata": {},
   "outputs": [],
   "source": []
  }
 ],
 "metadata": {
  "kernelspec": {
   "display_name": "Python 3 (ipykernel)",
   "language": "python",
   "name": "python3"
  },
  "language_info": {
   "codemirror_mode": {
    "name": "ipython",
    "version": 3
   },
   "file_extension": ".py",
   "mimetype": "text/x-python",
   "name": "python",
   "nbconvert_exporter": "python",
   "pygments_lexer": "ipython3",
   "version": "3.12.3"
  }
 },
 "nbformat": 4,
 "nbformat_minor": 5
}
