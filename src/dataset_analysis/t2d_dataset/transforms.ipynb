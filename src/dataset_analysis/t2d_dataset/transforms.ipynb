{
 "cells": [
  {
   "cell_type": "markdown",
   "id": "9573e82b-a2d5-4e5a-adfa-716fe40a461c",
   "metadata": {},
   "source": [
    "# Transforms visualization"
   ]
  },
  {
   "cell_type": "code",
   "execution_count": null,
   "id": "091e41ce-4594-4866-b0e7-311f932aae37",
   "metadata": {
    "tags": []
   },
   "outputs": [],
   "source": [
    "from lib_dl.analysis.notebook import setup_notebook\n",
    "setup_notebook(\"../../\")\n",
    "               \n",
    "%load_ext autoreload\n",
    "%autoreload 2"
   ]
  },
  {
   "cell_type": "code",
   "execution_count": null,
   "id": "ee0fbd53-5fc3-4697-8c82-c8ff7aa96f2e",
   "metadata": {},
   "outputs": [],
   "source": [
    "from pathlib import Path\n",
    "\n",
    "from lib_dl.analysis.visualize.images import show_dataset_samples\n",
    "from transforms_2d import (\n",
    "    create_trans2d_dataset,\n",
    "    Trans2DConfig,\n",
    "    TRANSFORMS,\n",
    ")\n",
    "from dataset_analysis.t2d_dataset.plotting_utils import plot_transforms\n",
    "# from experiments.data_analysis.obj2d_dataset.benchmark_util import load_data"
   ]
  },
  {
   "cell_type": "code",
   "execution_count": null,
   "id": "a94b690a-c7ce-4762-afb9-480ac60025e2",
   "metadata": {},
   "outputs": [],
   "source": [
    "MAIN_PLOTS_DIR = Path(\"../../neurips_2023/figures/dataset\")\n",
    "APPENDIX_PLOTS_DIR = Path(\"../../neurips_2023/figures/dataset/ap_all_samples\")\n",
    "# FIGSIZE = (16, 4.5)\n",
    "MAIN_FIGSIZE = (3.5, 1)\n",
    "MAIN_FIGSIZE = (10, 2)\n",
    "APPENDIX_FIGSIZE = (4.5, 1)"
   ]
  },
  {
   "cell_type": "markdown",
   "id": "9118aab5-2859-4f49-9f5e-79f5b57ecf83",
   "metadata": {},
   "source": [
    "## Main paper"
   ]
  },
  {
   "cell_type": "code",
   "execution_count": null,
   "id": "52583970-aa5f-4dad-9683-a87888a7d4e8",
   "metadata": {},
   "outputs": [],
   "source": [
    "n_samples = 8\n",
    "config = Trans2DConfig(\n",
    "    sampling_seed=483,\n",
    "    transforms_sampling_seed=893,\n",
    "    img_size=32,\n",
    "    n_training_samples=n_samples,\n",
    "    n_val_samples=n_samples,\n",
    "    n_test_samples=n_samples,\n",
    "    batch_size=n_samples,\n",
    ")\n",
    "transforms = [\n",
    "    # (\"translate\", [1], 2934),\n",
    "    (\"rotate\", [28], 394),\n",
    "    (\"hue\", [5], 5832),\n",
    "    (\"blur\", [34], 22),\n",
    "    (\"translate\", [16], 532),\n",
    "]\n",
    "\n",
    "plot_transforms(\n",
    "    config,\n",
    "    transforms,\n",
    "    MAIN_PLOTS_DIR,\n",
    "    MAIN_FIGSIZE,\n",
    ")"
   ]
  },
  {
   "cell_type": "markdown",
   "id": "97ed2e18-73c1-4563-b384-0d0496bbd3a2",
   "metadata": {},
   "source": [
    "## Appendix, all transformations"
   ]
  },
  {
   "cell_type": "code",
   "execution_count": null,
   "id": "5fbd16de-0dbf-435c-9c49-92746d5b6dd9",
   "metadata": {},
   "outputs": [],
   "source": [
    "n_samples = 6\n",
    "config = Trans2DConfig(\n",
    "    sampling_seed=992,\n",
    "    transforms_sampling_seed=2532,\n",
    "    img_size=32,\n",
    "    n_training_samples=n_samples,\n",
    "    n_val_samples=n_samples,\n",
    "    n_test_samples=n_samples,\n",
    "    batch_size=n_samples,\n",
    ")\n",
    "seed_offset = 5\n",
    "def obj_fn(o):\n",
    "    remap = {\n",
    "        3: 46, # h_flip\n",
    "        8: 36, # grayscale\n",
    "        9: 37, # posterize\n",
    "        11: 38, # sharpen\n",
    "        12: 39, # blur\n",
    "        14: 24, # pixelate\n",
    "        16: 26, # erasing,\n",
    "        17: 56, # contrast\n",
    "    }\n",
    "    if o in remap:\n",
    "        return remap[o]\n",
    "    else:\n",
    "        return o + 8\n",
    "transforms = list(zip(\n",
    "    TRANSFORMS,\n",
    "    [[obj_fn(o)] for o in range(len(TRANSFORMS))],\n",
    "    [seed_offset for s in range(len(TRANSFORMS))],\n",
    "))\n",
    "\n",
    "plot_transforms(\n",
    "    config,\n",
    "    transforms,\n",
    "    APPENDIX_PLOTS_DIR,\n",
    "    APPENDIX_FIGSIZE,\n",
    ")"
   ]
  },
  {
   "cell_type": "markdown",
   "id": "5928ca20-5618-4048-a11d-69cbd4da7ea8",
   "metadata": {},
   "source": [
    "## Checks"
   ]
  },
  {
   "cell_type": "markdown",
   "id": "8208be83-052f-4843-be12-7ec0f1fbacea",
   "metadata": {},
   "source": [
    "### Multiple objects per class\n",
    "\n",
    "Use multiple objects per class, instead of the single object used for pre-training."
   ]
  },
  {
   "cell_type": "code",
   "execution_count": null,
   "id": "8f7fbea4-ee83-4a91-9430-b0e97a6ede8e",
   "metadata": {},
   "outputs": [],
   "source": [
    "n_samples = 8\n",
    "config = Obj2DConfig(\n",
    "    sampling_seed=483,\n",
    "    transforms_sampling_seed=893,\n",
    "    img_size=32,\n",
    "    n_training_samples=n_samples,\n",
    "    n_val_samples=n_samples,\n",
    "    n_test_samples=n_samples,\n",
    "    batch_size=n_samples,\n",
    ")\n",
    "transforms = [\n",
    "    # (\"translate\", [1], 2934),\n",
    "    (\"rotate\", [28], 394),\n",
    "    (\"hue\", [5], 5832),\n",
    "    (\"blur\", [34], 22),\n",
    "    (\"blur\", [16], 22),\n",
    "]\n",
    "\n",
    "plot_transforms(\n",
    "    config,\n",
    "    transforms,\n",
    "    plots_dir=None,\n",
    "    figsize=(7, 1),\n",
    "    use_single_object=False,\n",
    ")"
   ]
  },
  {
   "cell_type": "markdown",
   "id": "473bdf32-1d2c-4af4-9c17-f1794c16e30e",
   "metadata": {},
   "source": [
    "### Only transformation differences"
   ]
  },
  {
   "cell_type": "code",
   "execution_count": null,
   "id": "bdc934f6-62f9-4bc3-b202-bde3e020b83f",
   "metadata": {},
   "outputs": [],
   "source": [
    "n_samples = 16\n",
    "\n",
    "def get_dataset(transforms_seed: int):\n",
    "    return create_transforms_datasets(\n",
    "        CTDataConfig(\n",
    "            dataset=\"obj2d\",\n",
    "            config_seed=5839,\n",
    "            sampling_seed=483,\n",
    "            transforms_sampling_seed=transforms_seed,\n",
    "            n_classes=10,\n",
    "            img_size=32,\n",
    "            n_training_samples=n_samples,\n",
    "            n_val_samples=n_samples,\n",
    "            n_test_samples=n_samples,\n",
    "            batch_size=n_samples,\n",
    "            # transforms=[\"move\", \"scale\"],\n",
    "        ),\n",
    "        normalize=False,\n",
    "    )\n",
    "\n",
    "data_1 = get_dataset(593)\n",
    "data_2 = get_dataset(4020)\n",
    "transform = \"rw_translate\"\n",
    "\n",
    "print(\"transforms:\", data_1.data.keys())\n",
    "fig_1 = show_dataset_samples(data_1.data[transform], n_samples=n_samples, data_type=\"test\")\n",
    "fig_2 = show_dataset_samples(data_2.data[transform], n_samples=n_samples, data_type=\"test\")"
   ]
  },
  {
   "cell_type": "code",
   "execution_count": null,
   "id": "1980c684-92c9-4471-ab61-b2b128ac96c2",
   "metadata": {},
   "outputs": [],
   "source": [
    "# Cifar with augmentations"
   ]
  },
  {
   "cell_type": "code",
   "execution_count": null,
   "id": "c6998bb0-0668-4518-8ca2-fe4305a90ca4",
   "metadata": {},
   "outputs": [],
   "source": [
    "from utils.invariance_measurement import create_rw_datasets"
   ]
  },
  {
   "cell_type": "code",
   "execution_count": null,
   "id": "82e66000-a9de-43b7-b5c3-cd7531726ec0",
   "metadata": {
    "tags": []
   },
   "outputs": [],
   "source": [
    "datasets_1 = create_rw_datasets(\"cifar100\", 17, normalize=False)\n",
    "datasets_2 = create_rw_datasets(\"cifar100\", 20, normalize=False)\n",
    "\n",
    "transforms = [\"translate\", \"hue\", \"rotate\"]\n",
    "n_samples = 8\n",
    "for transform in transforms:\n",
    "    print(\"transform:\", transform)\n",
    "    show_dataset_samples(datasets_1[transform], n_samples=n_samples, data_type=\"test\")\n",
    "    show_dataset_samples(datasets_2[transform], n_samples=n_samples, data_type=\"test\")"
   ]
  },
  {
   "cell_type": "code",
   "execution_count": null,
   "id": "4073a965-9be9-4a0e-9d8c-0b034256dbde",
   "metadata": {},
   "outputs": [],
   "source": []
  }
 ],
 "metadata": {
  "kernelspec": {
   "display_name": "Python 3 (ipykernel)",
   "language": "python",
   "name": "python3"
  },
  "language_info": {
   "codemirror_mode": {
    "name": "ipython",
    "version": 3
   },
   "file_extension": ".py",
   "mimetype": "text/x-python",
   "name": "python",
   "nbconvert_exporter": "python",
   "pygments_lexer": "ipython3",
   "version": "3.12.3"
  }
 },
 "nbformat": 4,
 "nbformat_minor": 5
}
