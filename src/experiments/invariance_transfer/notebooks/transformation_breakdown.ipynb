{
 "cells": [
  {
   "cell_type": "markdown",
   "id": "82b01bc0-5d03-429c-9806-5ad120fe2cf7",
   "metadata": {
    "tags": []
   },
   "source": [
    "# Invariance Transfer Across Transformations, Transformation Breakdown"
   ]
  },
  {
   "cell_type": "code",
   "execution_count": null,
   "id": "e355b99d",
   "metadata": {},
   "outputs": [],
   "source": [
    "from lib_project.notebook import setup_notebook\n",
    "setup_notebook(\"../../../\")\n",
    "\n",
    "%load_ext autoreload\n",
    "%autoreload 2"
   ]
  },
  {
   "cell_type": "code",
   "execution_count": null,
   "id": "acbd71c6",
   "metadata": {},
   "outputs": [],
   "source": [
    "from pathlib import Path\n",
    "\n",
    "from IPython.display import display, Markdown as md\n",
    "\n",
    "from experiments.invariance_transfer import results as res_util"
   ]
  },
  {
   "cell_type": "code",
   "execution_count": null,
   "id": "443ef379-7c4f-4d9f-9b7e-c8d1bbfc1e85",
   "metadata": {
    "tags": []
   },
   "outputs": [],
   "source": [
    "PLOTS_DIR = Path(\"../../neurips_2023/figures/how_transferable\")"
   ]
  },
  {
   "cell_type": "markdown",
   "id": "2f0d6131",
   "metadata": {
    "tags": []
   },
   "source": [
    "## ResNet-18"
   ]
  },
  {
   "cell_type": "code",
   "execution_count": null,
   "id": "7ff50a70-2176-401a-a683-3ba812a1e7a0",
   "metadata": {
    "tags": []
   },
   "outputs": [],
   "source": [
    "results = res_util.load(\"rn18\", list(range(10)))\n",
    "for category in [\"img\", \"rand\"]:\n",
    "    print(f\"{category} models:\")\n",
    "    fig = res_util.plot_paper_distances(results, category)\n",
    "    fig.write_image(\n",
    "        PLOTS_DIR / f\"appendix_transforms_breakdown/{category}_breakdown.pdf\",\n",
    "        engine=\"kaleido\",\n",
    "    )"
   ]
  },
  {
   "cell_type": "markdown",
   "id": "edb43817-678a-44aa-9bea-51d45a1354e3",
   "metadata": {},
   "source": [
    "## DenseNet-121"
   ]
  },
  {
   "cell_type": "code",
   "execution_count": null,
   "id": "24efdcfe-78cc-4081-8671-f8f9d8053741",
   "metadata": {
    "tags": []
   },
   "outputs": [],
   "source": [
    "results = res_util.load(\"dn121\", list(range(10)))\n",
    "# res_util.show_results(\n",
    "#     results,\n",
    "#     show_training=True,\n",
    "#     metrics=[\"l2\"],#, \"cos\", \"cka\"],\n",
    "# )\n",
    "full_distances = res_util.get_full_distances(results, \"l2\")\n",
    "full_comparisons = res_util.target_vs_non_target_comparison(full_distances)\n",
    "comp_means = res_util.compute_target_vs_non_target_means(full_comparisons, \"mean\")\n",
    "display(comp_means)\n",
    "comp_stds = res_util.compute_target_vs_non_target_means(full_comparisons, \"std\")\n",
    "display(comp_stds)\n",
    "rank_means = res_util.compute_target_vs_non_target_means(\n",
    "    res_util.normalize_by_rank(full_comparisons),\n",
    "    \"mean\"\n",
    ")\n",
    "res_util.print_comp_table(comp_means, comp_stds, rank_means)\n",
    "mean_fig = res_util.plot_distances(comp_means, reverse_colors=True, reindex=False)\n",
    "display(mean_fig)\n",
    "rank_fig = res_util.plot_distances(rank_means, reverse_colors=True, reindex=False)\n",
    "display(rank_fig)"
   ]
  },
  {
   "cell_type": "markdown",
   "id": "225dfd89-057a-44ab-b443-6872b989aa5c",
   "metadata": {},
   "source": [
    "## VGG-11"
   ]
  },
  {
   "cell_type": "code",
   "execution_count": null,
   "id": "a258e687-c0b0-4967-a5a6-b4174349f8eb",
   "metadata": {
    "tags": []
   },
   "outputs": [],
   "source": [
    "results = res_util.load(\"vgg11\", list(range(10)))\n",
    "# res_util.show_results(\n",
    "#     results,\n",
    "#     show_training=True,\n",
    "#     metrics=[\"l2\"],#, \"cos\", \"cka\"],\n",
    "# )\n",
    "full_distances = res_util.get_full_distances(results, \"l2\")\n",
    "full_comparisons = res_util.target_vs_non_target_comparison(full_distances)\n",
    "comp_means = res_util.compute_target_vs_non_target_means(full_comparisons, \"mean\")\n",
    "display(comp_means)\n",
    "comp_stds = res_util.compute_target_vs_non_target_means(full_comparisons, \"std\")\n",
    "display(comp_stds)\n",
    "rank_means = res_util.compute_target_vs_non_target_means(\n",
    "    res_util.normalize_by_rank(full_comparisons),\n",
    "    \"mean\"\n",
    ")\n",
    "res_util.print_comp_table(comp_means, comp_stds, rank_means)\n",
    "mean_fig = res_util.plot_distances(comp_means, reverse_colors=True, reindex=False)\n",
    "display(mean_fig)\n",
    "rank_fig = res_util.plot_distances(rank_means, reverse_colors=True, reindex=False)\n",
    "display(rank_fig)"
   ]
  },
  {
   "cell_type": "markdown",
   "id": "68b6555f-dc94-4b3b-afe3-6b524f720c8a",
   "metadata": {},
   "source": [
    "## ViT"
   ]
  },
  {
   "cell_type": "code",
   "execution_count": null,
   "id": "2a247593-4967-4827-af8d-94ae1e4fc1ba",
   "metadata": {
    "tags": []
   },
   "outputs": [],
   "source": [
    "results = res_util.load(\"vit\", list(range(10)))\n",
    "# res_util.show_results(\n",
    "#     results,\n",
    "#     show_training=True,\n",
    "#     metrics=[\"l2\"],#, \"cos\", \"cka\"],\n",
    "# )\n",
    "full_distances = res_util.get_full_distances(results, \"l2\")\n",
    "full_comparisons = res_util.target_vs_non_target_comparison(full_distances)\n",
    "comp_means = res_util.compute_target_vs_non_target_means(full_comparisons, \"mean\")\n",
    "display(comp_means)\n",
    "comp_stds = res_util.compute_target_vs_non_target_means(full_comparisons, \"std\")\n",
    "display(comp_stds)\n",
    "rank_means = res_util.compute_target_vs_non_target_means(\n",
    "    res_util.normalize_by_rank(full_comparisons),\n",
    "    \"mean\"\n",
    ")\n",
    "res_util.print_comp_table(comp_means, comp_stds, rank_means)\n",
    "mean_fig = res_util.plot_distances(comp_means, reverse_colors=True, reindex=False)\n",
    "display(mean_fig)\n",
    "rank_fig = res_util.plot_distances(rank_means, reverse_colors=True, reindex=False)\n",
    "display(rank_fig)"
   ]
  },
  {
   "cell_type": "code",
   "execution_count": null,
   "id": "579fa73a-5e99-4f71-9ef6-03b2e006f39e",
   "metadata": {},
   "outputs": [],
   "source": []
  },
  {
   "cell_type": "code",
   "execution_count": null,
   "id": "8c76b418",
   "metadata": {},
   "outputs": [],
   "source": [
    "# Upload to the server\n",
    "res_util.publish(\"eval\")"
   ]
  },
  {
   "cell_type": "code",
   "execution_count": null,
   "id": "e29830d6-7334-45a5-875a-d4a68274312c",
   "metadata": {},
   "outputs": [],
   "source": []
  }
 ],
 "metadata": {
  "kernelspec": {
   "display_name": "Python 3 (ipykernel)",
   "language": "python",
   "name": "python3"
  },
  "language_info": {
   "codemirror_mode": {
    "name": "ipython",
    "version": 3
   },
   "file_extension": ".py",
   "mimetype": "text/x-python",
   "name": "python",
   "nbconvert_exporter": "python",
   "pygments_lexer": "ipython3",
   "version": "3.12.3"
  }
 },
 "nbformat": 4,
 "nbformat_minor": 5
}
