{
 "cells": [
  {
   "cell_type": "markdown",
   "id": "9573e82b-a2d5-4e5a-adfa-716fe40a461c",
   "metadata": {},
   "source": [
    "# Imagenet Dataset Test"
   ]
  },
  {
   "cell_type": "code",
   "execution_count": null,
   "id": "bb3b5370-2647-45e5-afbb-fa875e4182ed",
   "metadata": {},
   "outputs": [],
   "source": [
    "import os\n",
    "import sys\n",
    "os.chdir(\"../../\")\n",
    "sys.path.append(os.getcwd() + \"/lib_dl/lib_dl\")"
   ]
  },
  {
   "cell_type": "code",
   "execution_count": null,
   "id": "39313cd5-fba7-411b-8518-2cd12376e4d4",
   "metadata": {},
   "outputs": [],
   "source": [
    "import pickle\n",
    "from pathlib import Path\n",
    "\n",
    "import torch\n",
    "import pandas as pd\n",
    "import matplotlib.pyplot as plt\n",
    "from IPython.display import display, Markdown as md"
   ]
  },
  {
   "cell_type": "code",
   "execution_count": null,
   "id": "6ac8dc59-c40a-454d-9c48-3f5ca4adbae4",
   "metadata": {},
   "outputs": [],
   "source": [
    "os.environ[\"ARTIFACTS_DIR\"] = \"../artifacts\"\n",
    "os.environ[\"DATA_DIR\"] = \"../data\""
   ]
  },
  {
   "cell_type": "code",
   "execution_count": null,
   "id": "ee0fbd53-5fc3-4697-8c82-c8ff7aa96f2e",
   "metadata": {},
   "outputs": [],
   "source": [
    "%load_ext autoreload\n",
    "%autoreload 2\n",
    "\n",
    "from lib_dl.datasets.natural.imagenet import ImagenetDataConfig, DataLoaderConfig, ImagenetDataModule\n",
    "from lib_dl.utils.visualize.images import show_dataset_samples"
   ]
  },
  {
   "cell_type": "code",
   "execution_count": null,
   "id": "0e82de97-ea8f-4f91-9881-bae08dbd326d",
   "metadata": {
    "tags": []
   },
   "outputs": [],
   "source": [
    "n_samples=32\n",
    "figsize=(16, 9)\n",
    "config = ImagenetDataConfig(\n",
    "    loader=DataLoaderConfig(\n",
    "        batch_size=n_samples,\n",
    "    ),\n",
    "    normalize=False,\n",
    ")\n",
    "data = ImagenetDataModule(config)"
   ]
  },
  {
   "cell_type": "code",
   "execution_count": null,
   "id": "16e735aa-a986-42a3-b2ad-20f2a2e89e90",
   "metadata": {},
   "outputs": [],
   "source": [
    "data.setup()"
   ]
  },
  {
   "cell_type": "code",
   "execution_count": null,
   "id": "7daad12f-6a44-4416-8ce9-0e3ab44804e2",
   "metadata": {},
   "outputs": [],
   "source": [
    "figsize=(16, 9)\n",
    "fig = show_dataset_samples(\n",
    "    data,\n",
    "    n_samples=n_samples,\n",
    "    data_type=\"train\",\n",
    "    show_titles=False,\n",
    "    figsize=figsize,\n",
    ")"
   ]
  },
  {
   "cell_type": "code",
   "execution_count": null,
   "id": "c6998bb0-0668-4518-8ca2-fe4305a90ca4",
   "metadata": {},
   "outputs": [],
   "source": [
    "fig = show_dataset_samples(\n",
    "    data,\n",
    "    n_samples=n_samples,\n",
    "    data_type=\"val\",\n",
    "    show_titles=False,\n",
    "    figsize=figsize,\n",
    ")"
   ]
  },
  {
   "cell_type": "code",
   "execution_count": null,
   "id": "908dd670-a47c-4e5f-8487-3d5b6290ddc5",
   "metadata": {},
   "outputs": [],
   "source": [
    "fig = show_dataset_samples(\n",
    "    data,\n",
    "    n_samples=n_samples,\n",
    "    data_type=\"test\",\n",
    "    show_titles=False,\n",
    "    figsize=figsize,\n",
    ")"
   ]
  },
  {
   "cell_type": "code",
   "execution_count": null,
   "id": "b7670597-efe9-4b80-81f5-9416974aa7f0",
   "metadata": {},
   "outputs": [],
   "source": []
  }
 ],
 "metadata": {
  "kernelspec": {
   "display_name": "Python 3 (ipykernel)",
   "language": "python",
   "name": "python3"
  },
  "language_info": {
   "codemirror_mode": {
    "name": "ipython",
    "version": 3
   },
   "file_extension": ".py",
   "mimetype": "text/x-python",
   "name": "python",
   "nbconvert_exporter": "python",
   "pygments_lexer": "ipython3",
   "version": "3.10.10"
  }
 },
 "nbformat": 4,
 "nbformat_minor": 5
}
